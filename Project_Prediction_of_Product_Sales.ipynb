{
  "nbformat": 4,
  "nbformat_minor": 0,
  "metadata": {
    "colab": {
      "provenance": [],
      "authorship_tag": "ABX9TyN25D2NNJkAd4cRzEvGX2dw",
      "include_colab_link": true
    },
    "kernelspec": {
      "name": "python3",
      "display_name": "Python 3"
    },
    "language_info": {
      "name": "python"
    }
  },
  "cells": [
    {
      "cell_type": "markdown",
      "metadata": {
        "id": "view-in-github",
        "colab_type": "text"
      },
      "source": [
        "<a href=\"https://colab.research.google.com/github/808hanronald/808hanronald/blob/main/Project_Prediction_of_Product_Sales.ipynb\" target=\"_parent\"><img src=\"https://colab.research.google.com/assets/colab-badge.svg\" alt=\"Open In Colab\"/></a>"
      ]
    },
    {
      "cell_type": "markdown",
      "source": [
        "# Prediction of Product Sales"
      ],
      "metadata": {
        "id": "emDlJU5XbZIX"
      }
    },
    {
      "cell_type": "markdown",
      "source": [
        "- Author: Ronald Han"
      ],
      "metadata": {
        "id": "hRn2b4BkbixP"
      }
    },
    {
      "cell_type": "markdown",
      "source": [
        "## Project Overview"
      ],
      "metadata": {
        "id": "ERzXeudc8pGx"
      }
    },
    {
      "cell_type": "markdown",
      "source": [],
      "metadata": {
        "id": "UffZWJZ47cOI"
      }
    },
    {
      "cell_type": "markdown",
      "source": [
        "## Load and Inspect Data"
      ],
      "metadata": {
        "id": "O6tDnDMvccqK"
      }
    },
    {
      "cell_type": "code",
      "source": [],
      "metadata": {
        "id": "RD1hgIK_dUiI"
      },
      "execution_count": null,
      "outputs": []
    },
    {
      "cell_type": "markdown",
      "source": [
        "## Clean Data"
      ],
      "metadata": {
        "id": "FhzKxTO6ckw6"
      }
    },
    {
      "cell_type": "code",
      "source": [],
      "metadata": {
        "id": "qj1X2TgZ998N"
      },
      "execution_count": null,
      "outputs": []
    },
    {
      "cell_type": "markdown",
      "source": [
        "## Exploratory Data Anaylist\n",
        "\n"
      ],
      "metadata": {
        "id": "oKH5mbEkcrKi"
      }
    },
    {
      "cell_type": "code",
      "source": [],
      "metadata": {
        "id": "fASDjW11dTNw"
      },
      "execution_count": null,
      "outputs": []
    },
    {
      "cell_type": "markdown",
      "source": [
        "## Feature Inspection"
      ],
      "metadata": {
        "id": "C654tm96c_cs"
      }
    },
    {
      "cell_type": "code",
      "source": [],
      "metadata": {
        "id": "GJoE5cJjdOLo"
      },
      "execution_count": null,
      "outputs": []
    }
  ]
}