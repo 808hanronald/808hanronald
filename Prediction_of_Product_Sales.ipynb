{
  "nbformat": 4,
  "nbformat_minor": 0,
  "metadata": {
    "colab": {
      "provenance": [],
      "authorship_tag": "ABX9TyPiohCjztRVxiWMHTIJZBmF",
      "include_colab_link": true
    },
    "kernelspec": {
      "name": "python3",
      "display_name": "Python 3"
    },
    "language_info": {
      "name": "python"
    }
  },
  "cells": [
    {
      "cell_type": "markdown",
      "metadata": {
        "id": "view-in-github",
        "colab_type": "text"
      },
      "source": [
        "<a href=\"https://colab.research.google.com/github/808hanronald/808hanronald/blob/main/Prediction_of_Product_Sales.ipynb\" target=\"_parent\"><img src=\"https://colab.research.google.com/assets/colab-badge.svg\" alt=\"Open In Colab\"/></a>"
      ]
    },
    {
      "cell_type": "markdown",
      "source": [
        "# **Prediction of Product Sales**\n"
      ],
      "metadata": {
        "id": "zycnTXa2qMJ0"
      }
    },
    {
      "cell_type": "markdown",
      "source": [
        "  - Author: *Ronald Han*"
      ],
      "metadata": {
        "id": "benVtcdMqqbF"
      }
    },
    {
      "cell_type": "markdown",
      "source": [
        "## Project Overview"
      ],
      "metadata": {
        "id": "eBINM9SSq0GG"
      }
    },
    {
      "cell_type": "code",
      "source": [],
      "metadata": {
        "id": "Fh6D4-sXrM2w"
      },
      "execution_count": null,
      "outputs": []
    },
    {
      "cell_type": "markdown",
      "source": [
        "## Load and Inspect Data"
      ],
      "metadata": {
        "id": "AkUnLPHBq0SW"
      }
    },
    {
      "cell_type": "code",
      "source": [],
      "metadata": {
        "id": "s1Xyq_vdraR4"
      },
      "execution_count": null,
      "outputs": []
    },
    {
      "cell_type": "markdown",
      "source": [
        "## Clean Data"
      ],
      "metadata": {
        "id": "Wf2xAoutq0cw"
      }
    },
    {
      "cell_type": "code",
      "source": [],
      "metadata": {
        "id": "nx8QfLAcrePB"
      },
      "execution_count": null,
      "outputs": []
    },
    {
      "cell_type": "markdown",
      "source": [
        "## Exploratory Data Analysis"
      ],
      "metadata": {
        "id": "lsEjw4evq0nb"
      }
    },
    {
      "cell_type": "code",
      "source": [],
      "metadata": {
        "id": "x5dpQNeZruXU"
      },
      "execution_count": null,
      "outputs": []
    },
    {
      "cell_type": "markdown",
      "source": [
        "## Feature Inspection"
      ],
      "metadata": {
        "id": "2HgPCSx3runN"
      }
    },
    {
      "cell_type": "code",
      "source": [],
      "metadata": {
        "id": "B-t-fPXir3gO"
      },
      "execution_count": null,
      "outputs": []
    }
  ]
}