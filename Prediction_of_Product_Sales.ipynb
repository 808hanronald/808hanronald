{
  "nbformat": 4,
  "nbformat_minor": 0,
  "metadata": {
    "colab": {
      "provenance": [],
      "authorship_tag": "ABX9TyO3wsjw+M3Yw1e2h5Y5Hq30",
      "include_colab_link": true
    },
    "kernelspec": {
      "name": "python3",
      "display_name": "Python 3"
    },
    "language_info": {
      "name": "python"
    }
  },
  "cells": [
    {
      "cell_type": "markdown",
      "metadata": {
        "id": "view-in-github",
        "colab_type": "text"
      },
      "source": [
        "<a href=\"https://colab.research.google.com/github/808hanronald/808hanronald/blob/main/Prediction_of_Product_Sales.ipynb\" target=\"_parent\"><img src=\"https://colab.research.google.com/assets/colab-badge.svg\" alt=\"Open In Colab\"/></a>"
      ]
    },
    {
      "cell_type": "markdown",
      "source": [
        "# Prediction of Product Sales"
      ],
      "metadata": {
        "id": "emDlJU5XbZIX"
      }
    },
    {
      "cell_type": "markdown",
      "source": [
        "- Author: Ronald Han"
      ],
      "metadata": {
        "id": "hRn2b4BkbixP"
      }
    },
    {
      "cell_type": "markdown",
      "source": [
        "## Project Overview"
      ],
      "metadata": {
        "id": "bKUYW0HgcHNy"
      }
    },
    {
      "cell_type": "markdown",
      "source": [
        "## Load and Inspect Data"
      ],
      "metadata": {
        "id": "O6tDnDMvccqK"
      }
    },
    {
      "cell_type": "code",
      "source": [],
      "metadata": {
        "id": "RD1hgIK_dUiI"
      },
      "execution_count": null,
      "outputs": []
    },
    {
      "cell_type": "markdown",
      "source": [
        "## Clean Data"
      ],
      "metadata": {
        "id": "FhzKxTO6ckw6"
      }
    },
    {
      "cell_type": "code",
      "source": [],
      "metadata": {
        "id": "5xgLq7QldT2r"
      },
      "execution_count": null,
      "outputs": []
    },
    {
      "cell_type": "markdown",
      "source": [
        "## Exploratory Data Anaylist\n",
        "\n"
      ],
      "metadata": {
        "id": "oKH5mbEkcrKi"
      }
    },
    {
      "cell_type": "code",
      "source": [],
      "metadata": {
        "id": "fASDjW11dTNw"
      },
      "execution_count": null,
      "outputs": []
    },
    {
      "cell_type": "markdown",
      "source": [
        "## Feature Inspection"
      ],
      "metadata": {
        "id": "C654tm96c_cs"
      }
    },
    {
      "cell_type": "code",
      "source": [],
      "metadata": {
        "id": "GJoE5cJjdOLo"
      },
      "execution_count": null,
      "outputs": []
    }
  ]
}